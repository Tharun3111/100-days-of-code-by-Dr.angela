{
  "nbformat": 4,
  "nbformat_minor": 0,
  "metadata": {
    "colab": {
      "provenance": []
    },
    "kernelspec": {
      "name": "python3",
      "display_name": "Python 3"
    },
    "language_info": {
      "name": "python"
    }
  },
  "cells": [
    {
      "cell_type": "markdown",
      "source": [
        "**Day - 1:Band_Name_Generator**"
      ],
      "metadata": {
        "id": "v2EC89tHOrpA"
      }
    },
    {
      "cell_type": "code",
      "execution_count": null,
      "metadata": {
        "colab": {
          "base_uri": "https://localhost:8080/"
        },
        "id": "NloDhAO7OpEy",
        "outputId": "eb7a706a-f94f-41a0-e967-53f49d5af7ab"
      },
      "outputs": [
        {
          "output_type": "stream",
          "name": "stdout",
          "text": [
            "Band-name-generator\n",
            "in which city you grew up?Alabama\n",
            "what is your pet name?Coco\n",
            "Alabama Coco\n"
          ]
        }
      ],
      "source": [
        "#1. Create a greeting for your program.\n",
        "print(\"Band-name-generator\")\n",
        "#2. Ask the user for the city that they grew up in.\n",
        "city = input(\"in which city you grew up?\")\n",
        "#3. Ask the user for the name of a pet.\n",
        "pet = input(\"what is your pet name?\")\n",
        "#4. Combine the name of their city and pet and show them their band name.\n",
        "print(city + \" \" + pet)\n"
      ]
    }
  ]
}