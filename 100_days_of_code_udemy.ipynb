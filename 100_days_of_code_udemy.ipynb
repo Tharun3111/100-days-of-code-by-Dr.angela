{
  "nbformat": 4,
  "nbformat_minor": 0,
  "metadata": {
    "colab": {
      "provenance": [],
      "authorship_tag": "ABX9TyOcLzYWPvnwU8SX4bFWOxM+",
      "include_colab_link": true
    },
    "kernelspec": {
      "name": "python3",
      "display_name": "Python 3"
    },
    "language_info": {
      "name": "python"
    }
  },
  "cells": [
    {
      "cell_type": "markdown",
      "metadata": {
        "id": "view-in-github",
        "colab_type": "text"
      },
      "source": [
        "<a href=\"https://colab.research.google.com/github/Tharun3111/100-days-of-code-by-Dr.angela/blob/main/100_days_of_code_udemy.ipynb\" target=\"_parent\"><img src=\"https://colab.research.google.com/assets/colab-badge.svg\" alt=\"Open In Colab\"/></a>"
      ]
    },
    {
      "cell_type": "markdown",
      "source": [
        "**Day - 1:Band_Name_Generator**"
      ],
      "metadata": {
        "id": "v2EC89tHOrpA"
      }
    },
    {
      "cell_type": "code",
      "execution_count": null,
      "metadata": {
        "colab": {
          "base_uri": "https://localhost:8080/"
        },
        "id": "NloDhAO7OpEy",
        "outputId": "eb7a706a-f94f-41a0-e967-53f49d5af7ab"
      },
      "outputs": [
        {
          "output_type": "stream",
          "name": "stdout",
          "text": [
            "Band-name-generator\n",
            "in which city you grew up?Alabama\n",
            "what is your pet name?Coco\n",
            "Alabama Coco\n"
          ]
        }
      ],
      "source": [
        "#1. Create a greeting for your program.\n",
        "print(\"Band-name-generator\")\n",
        "#2. Ask the user for the city that they grew up in.\n",
        "city = input(\"in which city you grew up?\")\n",
        "#3. Ask the user for the name of a pet.\n",
        "pet = input(\"what is your pet name?\")\n",
        "#4. Combine the name of their city and pet and show them their band name.\n",
        "print(city + \" \" + pet)\n"
      ]
    },
    {
      "cell_type": "markdown",
      "source": [
        "**Day-2:**\n",
        "\n",
        "**Tip Calculator**"
      ],
      "metadata": {
        "id": "ZPRxrVzFxtLY"
      }
    },
    {
      "cell_type": "code",
      "source": [
        "#If the bill was $150.00, split between 5 people, with 12% tip.\n",
        "\n",
        "#Each person should pay (150.00 / 5) * 1.12 = 33.6\n",
        "#Format the result to 2 decimal places = 33.60\n",
        "\n",
        "#Tip: There are 2 ways to round a number. You might have to do some Googling to solve this.💪\n",
        "\n",
        "#Write your code below this line 👇\n",
        "\n",
        "bill = float(input('what was the total bill?'))\n",
        "\n",
        "tip_percentage = int(input('what percantage tip would you like to give?10,12, or 15?'))\n",
        "\n",
        "people = int(input('how many people to split the bil?'))\n",
        "\n",
        "total_bill= tip_percentage / 100 * bill + bill\n",
        "\n",
        "each_person = total_bill / people\n",
        "\n",
        "final = round(each_person , 2)\n",
        "\n",
        "print(final)\n"
      ],
      "metadata": {
        "colab": {
          "base_uri": "https://localhost:8080/"
        },
        "id": "JZe-3sbykJqO",
        "outputId": "66f8067c-8862-49cf-9e32-dc3955a34ce0"
      },
      "execution_count": null,
      "outputs": [
        {
          "output_type": "stream",
          "name": "stdout",
          "text": [
            "what was the total bill?153.45\n",
            "what percantage tip would you like to give?10,12, or 15?15\n",
            "how many people to split the bil?5\n",
            "35.29\n"
          ]
        }
      ]
    },
    {
      "cell_type": "markdown",
      "source": [
        "**Day-3:**\n",
        "\n",
        "**Love Calulator**"
      ],
      "metadata": {
        "id": "CWD8tkZVkIW2"
      }
    },
    {
      "cell_type": "code",
      "source": [
        "# 🚨 Don't change the code below 👇\n",
        "print(\"Welcome to the Love Calculator!\")\n",
        "name1 = input(\"What is your name? \\n\")\n",
        "name2 = input(\"What is their name? \\n\")\n",
        "# 🚨 Don't change the code above 👆\n",
        "\n",
        "#Write your code below this line 👇\n",
        "\n",
        "\n",
        "add_2string = name1 + name2\n",
        "\n",
        "lower_case = add_2string.lower()\n",
        "\n",
        "t = lower_case.count(\"t\")\n",
        "r = lower_case.count(\"r\")\n",
        "u = lower_case.count(\"u\")\n",
        "e = lower_case.count(\"e\")\n",
        "\n",
        "true = t + r + u + r\n",
        "\n",
        "\n",
        "l = lower_case.count(\"l\")\n",
        "o = lower_case.count(\"o\")\n",
        "v = lower_case.count(\"v\")\n",
        "e = lower_case.count(\"e\")\n",
        "\n",
        "love = l + o + v + e\n",
        "\n",
        "\n",
        "love_score = int(str(true)+str(love))\n",
        "\n",
        "\n",
        "if (love_score < 10) or (love_score>90):\n",
        "    print(f\"your love score is {love_score}, you go together like fire and water.\")\n",
        "\n",
        "elif(love_score >=40) and (love_score<=50):\n",
        "    print(f\"your love score is {love_score}, you are alright together.\")\n",
        "else:\n",
        "    print(f\"your score is {love_score}\")\n",
        "\n"
      ],
      "metadata": {
        "colab": {
          "base_uri": "https://localhost:8080/"
        },
        "id": "FtGWwOL7kbJ_",
        "outputId": "43c1173c-67c7-4ecb-ce44-9fef97d62652"
      },
      "execution_count": null,
      "outputs": [
        {
          "output_type": "stream",
          "name": "stdout",
          "text": [
            "Welcome to the Love Calculator!\n",
            "What is your name? \n",
            "rajesh\n",
            "What is their name? \n",
            "chandrika\n",
            "your love score is 41, you are alright together.\n"
          ]
        }
      ]
    },
    {
      "cell_type": "markdown",
      "source": [
        "**Day-4:**\n",
        "\n",
        "**Game of Rock, Paper or Scissors.**"
      ],
      "metadata": {
        "id": "Ku5wz10l6vXQ"
      }
    },
    {
      "cell_type": "code",
      "source": [
        "import random\n",
        "\n",
        "rock = '''\n",
        "    _______\n",
        "---'   ____)\n",
        "      (_____)\n",
        "      (_____)\n",
        "      (____)\n",
        "---.__(___)\n",
        "'''\n",
        "\n",
        "paper = '''\n",
        "    _______\n",
        "---'   ____)____\n",
        "          ______)\n",
        "          _______)\n",
        "         _______)\n",
        "---.__________)\n",
        "'''\n",
        "\n",
        "scissors = '''\n",
        "    _______\n",
        "---'   ____)____\n",
        "          ______)\n",
        "       __________)\n",
        "      (____)\n",
        "---.__(___)\n",
        "'''\n",
        "\n",
        "#Write your code below this line 👇\n",
        "game_images = [rock, paper, scissors]\n",
        "\n",
        "user_choice = int(input(\"what do you choose? type 0 for rock, 1 for paper or 2 for scissors.\\n\"))\n",
        "\n",
        "\n",
        "if user_choice >= 3  or user_choice < 0:\n",
        "  print(\"you typed an invalid number, you lose!\")\n",
        "else:\n",
        "\n",
        "  print(game_images[user_choice])\n",
        "\n",
        "  computer_choice = random.randint(0,2)\n",
        "\n",
        "  print(\"computer choice:\")\n",
        "\n",
        "  print(game_images[computer_choice])\n",
        "\n",
        "  if user_choice == 0 and computer_choice == 2:\n",
        "    print(\"you win!!\")\n",
        "  elif computer_choice == 0 and user_choice == 2:\n",
        "    print(\"you lose\")\n",
        "  elif computer_choice > user_choice:\n",
        "    print(\"you lose\")\n",
        "\n",
        "  elif user_choice > computer_choice:\n",
        "    print(\"you win!\")\n",
        "\n",
        "  elif computer_choice == user_choice:\n",
        "    print(\"it's a draw\")\n",
        "  elif user_choice >=3 or user_choice <= 1 :\n",
        "    print(\"you typed an invalid number, you lose!!!\")\n",
        "\n",
        ""
      ],
      "metadata": {
        "colab": {
          "base_uri": "https://localhost:8080/"
        },
        "id": "X_YlDmYp6-HA",
        "outputId": "a85886ec-28ac-4ff0-e681-219607da5959"
      },
      "execution_count": 1,
      "outputs": [
        {
          "output_type": "stream",
          "name": "stdout",
          "text": [
            "what do you choose? type 0 for rock, 1 for paper or 2 for scissors.\n",
            "1\n",
            "\n",
            "    _______\n",
            "---'   ____)____\n",
            "          ______)\n",
            "          _______)\n",
            "         _______)\n",
            "---.__________)\n",
            "\n",
            "computer choice:\n",
            "\n",
            "    _______\n",
            "---'   ____)____\n",
            "          ______)\n",
            "       __________)\n",
            "      (____)\n",
            "---.__(___)\n",
            "\n",
            "you lose\n"
          ]
        }
      ]
    },
    {
      "cell_type": "markdown",
      "source": [
        "**Day-5(A)**\n",
        "\n",
        "**Easy Password generator**"
      ],
      "metadata": {
        "id": "hhNSiv97OgML"
      }
    },
    {
      "cell_type": "code",
      "source": [
        "#Password Generator Project\n",
        "import random\n",
        "letters = ['a', 'b', 'c', 'd', 'e', 'f', 'g', 'h', 'i', 'j', 'k', 'l', 'm', 'n', 'o', 'p', 'q', 'r', 's', 't', 'u', 'v', 'w', 'x', 'y', 'z', 'A', 'B', 'C', 'D', 'E', 'F', 'G', 'H', 'I', 'J', 'K', 'L', 'M', 'N', 'O', 'P', 'Q', 'R', 'S', 'T', 'U', 'V', 'W', 'X', 'Y', 'Z']\n",
        "numbers = ['0', '1', '2', '3', '4', '5', '6', '7', '8', '9']\n",
        "symbols = ['!', '#', '$', '%', '&', '(', ')', '*', '+']\n",
        "\n",
        "print(\"Welcome to the PyPassword Generator!\")\n",
        "nr_letters= int(input(\"How many letters would you like in your password?\\n\"))\n",
        "nr_symbols = int(input(f\"How many symbols would you like?\\n\"))\n",
        "nr_numbers = int(input(f\"How many numbers would you like?\\n\"))\n",
        "\n",
        "#Eazy Level - Order not randomised:\n",
        "#e.g. 4 letter, 2 symbol, 2 number = JduE&!91\n",
        "\n",
        "password = \"\"\n",
        "\n",
        "for char in range(1, nr_letters + 1):\n",
        "  password += random.choice(letters)\n",
        "\n",
        "for char in range(1, nr_symbols + 1):\n",
        "  password += random.choice(symbols)\n",
        "\n",
        "for char in range(1, nr_numbers + 1):\n",
        "  password += random.choice(numbers)\n",
        "\n",
        "\n",
        "print(password)\n",
        "\n",
        "\n",
        "\n",
        "\n",
        "\n",
        "\n"
      ],
      "metadata": {
        "colab": {
          "base_uri": "https://localhost:8080/"
        },
        "id": "GXQuJA4HOtgC",
        "outputId": "6599267f-760f-4ee1-8bbd-3ce2b3f3bfad"
      },
      "execution_count": 2,
      "outputs": [
        {
          "output_type": "stream",
          "name": "stdout",
          "text": [
            "Welcome to the PyPassword Generator!\n",
            "How many letters would you like in your password?\n",
            "7\n",
            "How many symbols would you like?\n",
            "5\n",
            "How many numbers would you like?\n",
            "7\n",
            "tkfijNa$%)($7992367\n"
          ]
        }
      ]
    },
    {
      "cell_type": "markdown",
      "source": [
        "**Day-5(B)**\n",
        "\n",
        "**Hard Password generator**"
      ],
      "metadata": {
        "id": "2HbhNMaCPG5R"
      }
    },
    {
      "cell_type": "code",
      "source": [
        "#Password Generator Project\n",
        "import random\n",
        "letters = ['a', 'b', 'c', 'd', 'e', 'f', 'g', 'h', 'i', 'j', 'k', 'l', 'm', 'n', 'o', 'p', 'q', 'r', 's', 't', 'u', 'v', 'w', 'x', 'y', 'z', 'A', 'B', 'C', 'D', 'E', 'F', 'G', 'H', 'I', 'J', 'K', 'L', 'M', 'N', 'O', 'P', 'Q', 'R', 'S', 'T', 'U', 'V', 'W', 'X', 'Y', 'Z']\n",
        "numbers = ['0', '1', '2', '3', '4', '5', '6', '7', '8', '9']\n",
        "symbols = ['!', '#', '$', '%', '&', '(', ')', '*', '+']\n",
        "\n",
        "print(\"Welcome to the PyPassword Generator!\")\n",
        "nr_letters= int(input(\"How many letters would you like in your password?\\n\"))\n",
        "nr_symbols = int(input(f\"How many symbols would you like?\\n\"))\n",
        "nr_numbers = int(input(f\"How many numbers would you like?\\n\"))\n",
        "\n",
        "\n",
        "\n",
        "\n",
        "\n",
        "#Hard Level - Order of characters randomised:\n",
        "#e.g. 4 letter, 2 symbol, 2 number = g^2jk8&P\n",
        "\n",
        "\n",
        "password_list = []\n",
        "\n",
        "for char in range(1, nr_letters + 1):\n",
        "  password_list.append(random.choice(letters))\n",
        "\n",
        "for char in range(1, nr_symbols + 1):\n",
        "  password_list += random.choice(symbols)\n",
        "\n",
        "for char in range(1, nr_numbers + 1):\n",
        "  password_list += random.choice(numbers)\n",
        "\n",
        "\n",
        "# print(password_list)\n",
        "\n",
        "random.shuffle(password_list)\n",
        "\n",
        "# print(password_list)\n",
        "\n",
        "\n",
        "password = \"\"\n",
        "\n",
        "for char in password_list:\n",
        "  password += char\n",
        "print(f\"your password is : {password}\")\n",
        "\n"
      ],
      "metadata": {
        "colab": {
          "base_uri": "https://localhost:8080/"
        },
        "id": "5Za1CRZoO27t",
        "outputId": "0e306dd3-7cc4-4310-c87e-c90b2a7d284a"
      },
      "execution_count": 3,
      "outputs": [
        {
          "output_type": "stream",
          "name": "stdout",
          "text": [
            "Welcome to the PyPassword Generator!\n",
            "How many letters would you like in your password?\n",
            "9\n",
            "How many symbols would you like?\n",
            "4\n",
            "How many numbers would you like?\n",
            "7\n",
            "your password is : z+jZ1%8d+0Qog)8391KD\n"
          ]
        }
      ]
    },
    {
      "cell_type": "markdown",
      "source": [
        "**Day-8**\n",
        "\n",
        "**prime numbers program**"
      ],
      "metadata": {
        "id": "Twao2jezNFCb"
      }
    },
    {
      "cell_type": "code",
      "source": [
        "#Write your code below this line 👇\n",
        "def prime_checker(number):\n",
        "    is_prime = True\n",
        "    for i in range(2, number):\n",
        "        if number % i == 0:\n",
        "            is_prime = False\n",
        "\n",
        "    if is_prime:\n",
        "        print(\"It's a prime number.\")\n",
        "    else:\n",
        "        print(\"It's not a prime number.\")\n",
        "\n",
        "\n",
        "\n",
        "\n",
        "\n",
        "#Write your code above this line 👆\n",
        "\n",
        "#Do NOT change any of the code below👇\n",
        "n = int(input(\"Check this number: \"))\n",
        "prime_checker(number=n)\n"
      ],
      "metadata": {
        "id": "UvOb3GVtNPm_",
        "outputId": "ec79d5bb-a69a-4ba9-aa59-53c4c440c06e",
        "colab": {
          "base_uri": "https://localhost:8080/"
        }
      },
      "execution_count": 1,
      "outputs": [
        {
          "output_type": "stream",
          "name": "stdout",
          "text": [
            "Check this number: 75\n",
            "It's not a prime number.\n"
          ]
        }
      ]
    }
  ]
}