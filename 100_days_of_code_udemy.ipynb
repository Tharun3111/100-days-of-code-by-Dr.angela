{
  "nbformat": 4,
  "nbformat_minor": 0,
  "metadata": {
    "colab": {
      "provenance": [],
      "authorship_tag": "ABX9TyOleUylTciQcn1Cjd6qe+Y9",
      "include_colab_link": true
    },
    "kernelspec": {
      "name": "python3",
      "display_name": "Python 3"
    },
    "language_info": {
      "name": "python"
    }
  },
  "cells": [
    {
      "cell_type": "markdown",
      "metadata": {
        "id": "view-in-github",
        "colab_type": "text"
      },
      "source": [
        "<a href=\"https://colab.research.google.com/github/Tharun3111/100-days-of-code-by-Dr.angela/blob/main/100_days_of_code_udemy.ipynb\" target=\"_parent\"><img src=\"https://colab.research.google.com/assets/colab-badge.svg\" alt=\"Open In Colab\"/></a>"
      ]
    },
    {
      "cell_type": "markdown",
      "source": [
        "**Day - 1:Band_Name_Generator**"
      ],
      "metadata": {
        "id": "v2EC89tHOrpA"
      }
    },
    {
      "cell_type": "code",
      "execution_count": null,
      "metadata": {
        "colab": {
          "base_uri": "https://localhost:8080/"
        },
        "id": "NloDhAO7OpEy",
        "outputId": "eb7a706a-f94f-41a0-e967-53f49d5af7ab"
      },
      "outputs": [
        {
          "output_type": "stream",
          "name": "stdout",
          "text": [
            "Band-name-generator\n",
            "in which city you grew up?Alabama\n",
            "what is your pet name?Coco\n",
            "Alabama Coco\n"
          ]
        }
      ],
      "source": [
        "#1. Create a greeting for your program.\n",
        "print(\"Band-name-generator\")\n",
        "#2. Ask the user for the city that they grew up in.\n",
        "city = input(\"in which city you grew up?\")\n",
        "#3. Ask the user for the name of a pet.\n",
        "pet = input(\"what is your pet name?\")\n",
        "#4. Combine the name of their city and pet and show them their band name.\n",
        "print(city + \" \" + pet)\n"
      ]
    },
    {
      "cell_type": "markdown",
      "source": [
        "**Day-2:**\n",
        "\n",
        "**Tip Calculator**"
      ],
      "metadata": {
        "id": "ZPRxrVzFxtLY"
      }
    },
    {
      "cell_type": "code",
      "source": [
        "#If the bill was $150.00, split between 5 people, with 12% tip.\n",
        "\n",
        "#Each person should pay (150.00 / 5) * 1.12 = 33.6\n",
        "#Format the result to 2 decimal places = 33.60\n",
        "\n",
        "#Tip: There are 2 ways to round a number. You might have to do some Googling to solve this.💪\n",
        "\n",
        "#Write your code below this line 👇\n",
        "\n",
        "bill = float(input('what was the total bill?'))\n",
        "\n",
        "tip_percentage = int(input('what percantage tip would you like to give?10,12, or 15?'))\n",
        "\n",
        "people = int(input('how many people to split the bil?'))\n",
        "\n",
        "total_bill= tip_percentage / 100 * bill + bill\n",
        "\n",
        "each_person = total_bill / people\n",
        "\n",
        "final = round(each_person , 2)\n",
        "\n",
        "print(final)\n"
      ],
      "metadata": {
        "colab": {
          "base_uri": "https://localhost:8080/"
        },
        "id": "JZe-3sbykJqO",
        "outputId": "66f8067c-8862-49cf-9e32-dc3955a34ce0"
      },
      "execution_count": 1,
      "outputs": [
        {
          "output_type": "stream",
          "name": "stdout",
          "text": [
            "what was the total bill?153.45\n",
            "what percantage tip would you like to give?10,12, or 15?15\n",
            "how many people to split the bil?5\n",
            "35.29\n"
          ]
        }
      ]
    },
    {
      "cell_type": "markdown",
      "source": [
        "**Day-3:**\n",
        "\n",
        "**Love Calulator**"
      ],
      "metadata": {
        "id": "CWD8tkZVkIW2"
      }
    },
    {
      "cell_type": "code",
      "source": [
        "# 🚨 Don't change the code below 👇\n",
        "print(\"Welcome to the Love Calculator!\")\n",
        "name1 = input(\"What is your name? \\n\")\n",
        "name2 = input(\"What is their name? \\n\")\n",
        "# 🚨 Don't change the code above 👆\n",
        "\n",
        "#Write your code below this line 👇\n",
        "\n",
        "\n",
        "add_2string = name1 + name2\n",
        "\n",
        "lower_case = add_2string.lower()\n",
        "\n",
        "t = lower_case.count(\"t\")\n",
        "r = lower_case.count(\"r\")\n",
        "u = lower_case.count(\"u\")\n",
        "e = lower_case.count(\"e\")\n",
        "\n",
        "true = t + r + u + r\n",
        "\n",
        "\n",
        "l = lower_case.count(\"l\")\n",
        "o = lower_case.count(\"o\")\n",
        "v = lower_case.count(\"v\")\n",
        "e = lower_case.count(\"e\")\n",
        "\n",
        "love = l + o + v + e\n",
        "\n",
        "\n",
        "love_score = int(str(true)+str(love))\n",
        "\n",
        "\n",
        "if (love_score < 10) or (love_score>90):\n",
        "    print(f\"your love score is {love_score}, you go together like fire and water.\")\n",
        "\n",
        "elif(love_score >=40) and (love_score<=50):\n",
        "    print(f\"your love score is {love_score}, you are alright together.\")\n",
        "else:\n",
        "    print(f\"your score is {love_score}\")\n",
        "\n"
      ],
      "metadata": {
        "colab": {
          "base_uri": "https://localhost:8080/"
        },
        "id": "FtGWwOL7kbJ_",
        "outputId": "43c1173c-67c7-4ecb-ce44-9fef97d62652"
      },
      "execution_count": 2,
      "outputs": [
        {
          "output_type": "stream",
          "name": "stdout",
          "text": [
            "Welcome to the Love Calculator!\n",
            "What is your name? \n",
            "rajesh\n",
            "What is their name? \n",
            "chandrika\n",
            "your love score is 41, you are alright together.\n"
          ]
        }
      ]
    }
  ]
}